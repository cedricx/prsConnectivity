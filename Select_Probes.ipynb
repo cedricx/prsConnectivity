{
 "cells": [
  {
   "cell_type": "code",
   "execution_count": 2,
   "metadata": {},
   "outputs": [
    {
     "name": "stdout",
     "output_type": "stream",
     "text": [
      "[NbConvertApp] Converting notebook Cedric_gene_functions.ipynb to script\n",
      "[NbConvertApp] Writing 5955 bytes to Cedric_gene_functions.py\n"
     ]
    }
   ],
   "source": [
    "import pandas as pd\n",
    "import os\n",
    "import Cedric_gene_functions as ced"
   ]
  },
  {
   "cell_type": "code",
   "execution_count": 3,
   "metadata": {},
   "outputs": [],
   "source": [
    "# Set up the working directory\n",
    "# All paths after this are relative path to the root of chead\n",
    "\n",
    "wk_dir = '/Users/hxia/Desktop/BBL/' # this is where I have mounted chead to on my laptop. \n",
    "# Change the above to an empty string if working directly on chead \n",
    "\n",
    "# Set up the project directory\n",
    "project_path = os.path.join(wk_dir,'data/joy/BBL/projects/prsConnectivity')"
   ]
  },
  {
   "cell_type": "code",
   "execution_count": 4,
   "metadata": {},
   "outputs": [],
   "source": [
    "donor_list = [10021, 12876, 14380, 15496, 15697, 9861]"
   ]
  },
  {
   "cell_type": "code",
   "execution_count": 6,
   "metadata": {},
   "outputs": [
    {
     "name": "stdout",
     "output_type": "stream",
     "text": [
      "selecting probes for donor 10021\n",
      "writing data to /Users/hxia/Desktop/BBL/data/joy/BBL/projects/prsConnectivity/ABI/processedData/donor10021_gene_expression.csv\n",
      "selecting probes for donor 12876\n",
      "writing data to /Users/hxia/Desktop/BBL/data/joy/BBL/projects/prsConnectivity/ABI/processedData/donor12876_gene_expression.csv\n",
      "selecting probes for donor 14380\n",
      "writing data to /Users/hxia/Desktop/BBL/data/joy/BBL/projects/prsConnectivity/ABI/processedData/donor14380_gene_expression.csv\n",
      "selecting probes for donor 15496\n",
      "writing data to /Users/hxia/Desktop/BBL/data/joy/BBL/projects/prsConnectivity/ABI/processedData/donor15496_gene_expression.csv\n",
      "selecting probes for donor 15697\n",
      "writing data to /Users/hxia/Desktop/BBL/data/joy/BBL/projects/prsConnectivity/ABI/processedData/donor15697_gene_expression.csv\n",
      "selecting probes for donor 9861\n",
      "writing data to /Users/hxia/Desktop/BBL/data/joy/BBL/projects/prsConnectivity/ABI/processedData/donor9861_gene_expression.csv\n"
     ]
    }
   ],
   "source": [
    "for donor in donor_list:\n",
    "    print 'selecting probes for donor %s' % donor\n",
    "    datCollapsed = ced.selectProbe(donor)\n",
    "    \n",
    "    #write gene_assignment to a csv\n",
    "    csv_filename = os.path.join(project_path,'ABI/','processedData','donor%s_gene_expression.csv' \\\n",
    "                                % donor)\n",
    "    print 'writing data to ' + csv_filename\n",
    "    datCollapsed.to_csv(path_or_buf=csv_filename)"
   ]
  },
  {
   "cell_type": "code",
   "execution_count": null,
   "metadata": {},
   "outputs": [],
   "source": []
  }
 ],
 "metadata": {
  "kernelspec": {
   "display_name": "myenv2",
   "language": "python",
   "name": "myenv2"
  },
  "language_info": {
   "codemirror_mode": {
    "name": "ipython",
    "version": 2
   },
   "file_extension": ".py",
   "mimetype": "text/x-python",
   "name": "python",
   "nbconvert_exporter": "python",
   "pygments_lexer": "ipython2",
   "version": "2.7.14"
  }
 },
 "nbformat": 4,
 "nbformat_minor": 2
}
