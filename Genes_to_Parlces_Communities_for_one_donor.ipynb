{
 "cells": [
  {
   "cell_type": "markdown",
   "metadata": {},
   "source": [
    "## Map Genes to Parcels & Communities in Schaefer\n",
    "#### Cedric Huchuan Xia"
   ]
  },
  {
   "cell_type": "markdown",
   "metadata": {},
   "source": [
    "#### Import necessary modules"
   ]
  },
  {
   "cell_type": "code",
   "execution_count": 1,
   "metadata": {},
   "outputs": [],
   "source": [
    "import os\n",
    "import subprocess\n",
    "import numpy as np\n",
    "import nibabel as nib\n",
    "from nilearn import plotting\n",
    "import pandas\n",
    "import pickle"
   ]
  },
  {
   "cell_type": "markdown",
   "metadata": {},
   "source": [
    "#### Set up files paths"
   ]
  },
  {
   "cell_type": "code",
   "execution_count": 2,
   "metadata": {},
   "outputs": [],
   "source": [
    "# Set up the working directory\n",
    "# All paths after this are relative path to the root of chead\n",
    "\n",
    "wk_dir = '/Users/hxia/Desktop/BBL/' # this is where I have mounted chead to on my laptop. \n",
    "# Change the above to an empty string if working directly on chead \n",
    "\n",
    "# Set up the project directory\n",
    "project_path = os.path.join(wk_dir,'data/joy/BBL/projects/prsConnectivity')"
   ]
  },
  {
   "cell_type": "code",
   "execution_count": 3,
   "metadata": {},
   "outputs": [],
   "source": [
    "# Parcellation\n",
    "schaefer_path = os.path.join(wk_dir,'data/joy/BBL/studies/pnc/template/Schaefer/MNI')\n",
    "parcel_filename = os.path.join(schaefer_path, 'Schaefer2018_100Parcels_7Networks_order_FSLMNI152_1mm.nii.gz')\n",
    "community_filename = os.path.join(schaefer_path,'Schaefer2018_100Parcels_7Networks_order.txt')"
   ]
  },
  {
   "cell_type": "code",
   "execution_count": 4,
   "metadata": {},
   "outputs": [],
   "source": [
    "# Genes\n",
    "ABI_path = os.path.join(wk_dir,project_path,'ABI')\n",
    "donor='10021'\n",
    "gene_filename = os.path.join(ABI_path,'normalized_microarray_donor'+donor,'SampleAnnot.csv')"
   ]
  },
  {
   "cell_type": "markdown",
   "metadata": {},
   "source": [
    "#### Load files"
   ]
  },
  {
   "cell_type": "code",
   "execution_count": 5,
   "metadata": {},
   "outputs": [
    {
     "data": {
      "image/png": "[encoded data removed]",
      "text/plain": [
       "<matplotlib.figure.Figure at 0x1c10442d50>"
      ]
     },
     "metadata": {},
     "output_type": "display_data"
    }
   ],
   "source": [
    "# Parcellation\n",
    "img = nib.load(parcel_filename)\n",
    "img_data = img.get_data()\n",
    "plotting.plot_img(img,draw_cross=False,title='Schaefer 100 Parcels',colorbar=True)\n",
    "\n",
    "# Community Assignment\n",
    "community = pandas.read_csv(community_filename,delim_whitespace=True,header=None)"
   ]
  },
  {
   "cell_type": "code",
   "execution_count": 6,
   "metadata": {},
   "outputs": [],
   "source": [
    "# Genes\n",
    "gene = pandas.io.parsers.read_csv(gene_filename,delimiter=',')\n",
    "gene_mni_coord = gene.iloc[:,-3:]"
   ]
  },
  {
   "cell_type": "markdown",
   "metadata": {},
   "source": [
    "#### Parse the Community File"
   ]
  },
  {
   "cell_type": "code",
   "execution_count": 7,
   "metadata": {},
   "outputs": [],
   "source": [
    "community_assignment ={parcel[0]: parcel[1].split('_')[2] \n",
    "                       for idx, parcel in community.iterrows()}\n",
    "community_assignment[0] = 'NotAssigned'"
   ]
  },
  {
   "cell_type": "markdown",
   "metadata": {},
   "source": [
    "#### Map MNI to Image Coordiantes"
   ]
  },
  {
   "cell_type": "code",
   "execution_count": 8,
   "metadata": {},
   "outputs": [],
   "source": [
    "# Initiate an empty dataframe of nrow = num gene, ncol = 3 for x y z coordinates\n",
    "gene_vox_coord = pandas.DataFrame(np.zeros(gene_mni_coord.shape))\n",
    "gene_vox_coord.columns = ['img_x','img_y','img_z']"
   ]
  },
  {
   "cell_type": "code",
   "execution_count": 9,
   "metadata": {},
   "outputs": [],
   "source": [
    "# Loop through each gene coordinate in MNI space\n",
    "# and then apply FSL std2imgcoord to transform the points\n",
    "# to the image voxel coordiates\n",
    "\n",
    "for ridx, row in gene_mni_coord.iterrows():\n",
    "    coord_cmd = \"echo %f %f %f|std2imgcoord -img %s -std %s -vox \" \\\n",
    "    % (row[0],row[1],row[2],parcel_filename,parcel_filename) # a shell command to apply FSL std2imgcoord\n",
    "    vox_coord_str = subprocess.check_output(coord_cmd, shell = True) # get the output from the shell\n",
    "    vox_coord_str_list = vox_coord_str.split()\n",
    "    for cidx, coord in enumerate(vox_coord_str_list): \n",
    "        vox_coord_float = float(coord)\n",
    "        gene_vox_coord.iloc[ridx][cidx] = vox_coord_float\n",
    "gene_vox_coord_rd = np.round(gene_vox_coord).astype(int)"
   ]
  },
  {
   "cell_type": "code",
   "execution_count": 10,
   "metadata": {},
   "outputs": [],
   "source": [
    "# Loop up parcel and community assignment for each gene\n",
    "gene_parcel_assignment ={idx: img_data[tuple(gene)].astype(int)\n",
    "                       for idx, gene in gene_vox_coord_rd.iterrows()}\n",
    "gene_community_assignment = {idx : community_assignment[gene_parcel]\n",
    "                            for idx, gene_parcel in gene_parcel_assignment.iteritems()}"
   ]
  },
  {
   "cell_type": "code",
   "execution_count": 90,
   "metadata": {},
   "outputs": [],
   "source": [
    "# Concat a master loopup table of gene assignment\n",
    "gene_assignment = pandas.DataFrame([gene_parcel_assignment, gene_community_assignment]).T\n",
    "gene_assignment.columns = ['d{}'.format(i) for i, col in enumerate(gene_assignment, 1)]\n",
    "gene_assignment.columns = ['parcel','community']\n",
    "gene_assignment = pandas.concat([gene_mni_coord,gene_vox_coord,gene_assignment],axis=1)"
   ]
  },
  {
   "cell_type": "markdown",
   "metadata": {},
   "source": [
    "#### Save the Variables"
   ]
  },
  {
   "cell_type": "code",
   "execution_count": 98,
   "metadata": {},
   "outputs": [],
   "source": [
    "variables_filename = os.path.join(project_path,'ABI/gene_mapping','%s_100Parcels_7Network.pkl' % donor)"
   ]
  },
  {
   "cell_type": "code",
   "execution_count": 99,
   "metadata": {},
   "outputs": [],
   "source": [
    "with open(variables_filename, 'w') as f:\n",
    "    pickle.dump([gene_mni_coord, gene_vox_coord, gene_vox_coord_rd,\n",
    "                 gene_parcel_assignment,gene_community_assignment,gene_assignment],f)"
   ]
  },
  {
   "cell_type": "code",
   "execution_count": 100,
   "metadata": {},
   "outputs": [],
   "source": [
    "#write gene_assignment to a csv\n",
    "csv_filename = os.path.join(project_path,'ABI/gene_mapping','%s_100Parcels_7Network.csv' % donor)\n",
    "gene_assignment.to_csv(path_or_buf=csv_filename)"
   ]
  },
  {
   "cell_type": "markdown",
   "metadata": {},
   "source": [
    "#### A preview of the outputs"
   ]
  },
  {
   "cell_type": "code",
   "execution_count": 74,
   "metadata": {},
   "outputs": [
    {
     "data": {
      "text/plain": [
       "<nilearn.plotting.displays.OrthoSlicer at 0x1c162ab910>"
      ]
     },
     "execution_count": 74,
     "metadata": {},
     "output_type": "execute_result"
    },
    {
     "data": {
      "image/png": "[encoded data removed]",
      "text/plain": [
       "<matplotlib.figure.Figure at 0x1c1609aa50>"
      ]
     },
     "metadata": {},
     "output_type": "display_data"
    }
   ],
   "source": [
    "ex_gene = 40\n",
    "plotting.plot_img(img,draw_cross=True,cut_coords = tuple(gene_mni_coord.ix[ex_gene]),\\\n",
    "                  title='Parcel: ' + gene_parcel_assignment.values()[ex_gene].astype(str) + \\\n",
    "                  ' as '+ gene_community_assignment.values()[ex_gene], colorbar=True)"
   ]
  },
  {
   "cell_type": "code",
   "execution_count": 82,
   "metadata": {},
   "outputs": [
    {
     "data": {
      "text/plain": [
       "<nilearn.plotting.displays.OrthoSlicer at 0x1c26d0e690>"
      ]
     },
     "execution_count": 82,
     "metadata": {},
     "output_type": "execute_result"
    },
    {
     "data": {
      "image/png": "[encoded data removed]",
      "text/plain": [
       "<matplotlib.figure.Figure at 0x1c26aad8d0>"
      ]
     },
     "metadata": {},
     "output_type": "display_data"
    }
   ],
   "source": [
    "ex_gene = 354\n",
    "plotting.plot_img(img,draw_cross=True,cut_coords = tuple(gene_mni_coord.ix[ex_gene]),\\\n",
    "                  title='Parcel: ' + gene_parcel_assignment.values()[ex_gene].astype(str) + \\\n",
    "                  ' as '+ gene_community_assignment.values()[ex_gene], colorbar=True)"
   ]
  },
  {
   "cell_type": "code",
   "execution_count": 101,
   "metadata": {},
   "outputs": [
    {
     "data": {
      "text/html": [
       "<div>\n",
       "<style scoped>\n",
       "    .dataframe tbody tr th:only-of-type {\n",
       "        vertical-align: middle;\n",
       "    }\n",
       "\n",
       "    .dataframe tbody tr th {\n",
       "        vertical-align: top;\n",
       "    }\n",
       "\n",
       "    .dataframe thead th {\n",
       "        text-align: right;\n",
       "    }\n",
       "</style>\n",
       "<table border=\"1\" class=\"dataframe\">\n",
       "  <thead>\n",
       "    <tr style=\"text-align: right;\">\n",
       "      <th></th>\n",
       "      <th>mni_x</th>\n",
       "      <th>mni_y</th>\n",
       "      <th>mni_z</th>\n",
       "      <th>img_x</th>\n",
       "      <th>img_y</th>\n",
       "      <th>img_z</th>\n",
       "      <th>parcel</th>\n",
       "      <th>community</th>\n",
       "    </tr>\n",
       "  </thead>\n",
       "  <tbody>\n",
       "    <tr>\n",
       "      <th>0</th>\n",
       "      <td>-29.2</td>\n",
       "      <td>5.8</td>\n",
       "      <td>-2.6</td>\n",
       "      <td>119.2</td>\n",
       "      <td>131.8</td>\n",
       "      <td>69.4</td>\n",
       "      <td>0</td>\n",
       "      <td>NotAssigned</td>\n",
       "    </tr>\n",
       "    <tr>\n",
       "      <th>1</th>\n",
       "      <td>-10.1</td>\n",
       "      <td>5.9</td>\n",
       "      <td>-8.4</td>\n",
       "      <td>100.1</td>\n",
       "      <td>131.9</td>\n",
       "      <td>63.6</td>\n",
       "      <td>0</td>\n",
       "      <td>NotAssigned</td>\n",
       "    </tr>\n",
       "    <tr>\n",
       "      <th>2</th>\n",
       "      <td>8.9</td>\n",
       "      <td>8.5</td>\n",
       "      <td>-7.4</td>\n",
       "      <td>81.1</td>\n",
       "      <td>134.5</td>\n",
       "      <td>64.6</td>\n",
       "      <td>0</td>\n",
       "      <td>NotAssigned</td>\n",
       "    </tr>\n",
       "    <tr>\n",
       "      <th>3</th>\n",
       "      <td>7.9</td>\n",
       "      <td>0.8</td>\n",
       "      <td>-6.7</td>\n",
       "      <td>82.1</td>\n",
       "      <td>126.8</td>\n",
       "      <td>65.3</td>\n",
       "      <td>0</td>\n",
       "      <td>NotAssigned</td>\n",
       "    </tr>\n",
       "    <tr>\n",
       "      <th>4</th>\n",
       "      <td>16.9</td>\n",
       "      <td>0.9</td>\n",
       "      <td>-9.1</td>\n",
       "      <td>73.1</td>\n",
       "      <td>126.9</td>\n",
       "      <td>62.9</td>\n",
       "      <td>0</td>\n",
       "      <td>NotAssigned</td>\n",
       "    </tr>\n",
       "    <tr>\n",
       "      <th>5</th>\n",
       "      <td>37.0</td>\n",
       "      <td>-0.5</td>\n",
       "      <td>4.1</td>\n",
       "      <td>53.0</td>\n",
       "      <td>125.5</td>\n",
       "      <td>76.1</td>\n",
       "      <td>76</td>\n",
       "      <td>SalVentAttn</td>\n",
       "    </tr>\n",
       "    <tr>\n",
       "      <th>6</th>\n",
       "      <td>13.4</td>\n",
       "      <td>2.2</td>\n",
       "      <td>0.2</td>\n",
       "      <td>76.6</td>\n",
       "      <td>128.2</td>\n",
       "      <td>72.2</td>\n",
       "      <td>0</td>\n",
       "      <td>NotAssigned</td>\n",
       "    </tr>\n",
       "    <tr>\n",
       "      <th>7</th>\n",
       "      <td>24.8</td>\n",
       "      <td>1.7</td>\n",
       "      <td>-22.1</td>\n",
       "      <td>65.2</td>\n",
       "      <td>127.7</td>\n",
       "      <td>49.9</td>\n",
       "      <td>80</td>\n",
       "      <td>Limbic</td>\n",
       "    </tr>\n",
       "    <tr>\n",
       "      <th>8</th>\n",
       "      <td>19.2</td>\n",
       "      <td>0.7</td>\n",
       "      <td>-14.9</td>\n",
       "      <td>70.8</td>\n",
       "      <td>126.7</td>\n",
       "      <td>57.1</td>\n",
       "      <td>0</td>\n",
       "      <td>NotAssigned</td>\n",
       "    </tr>\n",
       "    <tr>\n",
       "      <th>9</th>\n",
       "      <td>18.1</td>\n",
       "      <td>1.6</td>\n",
       "      <td>-22.1</td>\n",
       "      <td>71.9</td>\n",
       "      <td>127.6</td>\n",
       "      <td>49.9</td>\n",
       "      <td>0</td>\n",
       "      <td>NotAssigned</td>\n",
       "    </tr>\n",
       "  </tbody>\n",
       "</table>\n",
       "</div>"
      ],
      "text/plain": [
       "   mni_x  mni_y  mni_z  img_x  img_y  img_z parcel    community\n",
       "0  -29.2    5.8   -2.6  119.2  131.8   69.4      0  NotAssigned\n",
       "1  -10.1    5.9   -8.4  100.1  131.9   63.6      0  NotAssigned\n",
       "2    8.9    8.5   -7.4   81.1  134.5   64.6      0  NotAssigned\n",
       "3    7.9    0.8   -6.7   82.1  126.8   65.3      0  NotAssigned\n",
       "4   16.9    0.9   -9.1   73.1  126.9   62.9      0  NotAssigned\n",
       "5   37.0   -0.5    4.1   53.0  125.5   76.1     76  SalVentAttn\n",
       "6   13.4    2.2    0.2   76.6  128.2   72.2      0  NotAssigned\n",
       "7   24.8    1.7  -22.1   65.2  127.7   49.9     80       Limbic\n",
       "8   19.2    0.7  -14.9   70.8  126.7   57.1      0  NotAssigned\n",
       "9   18.1    1.6  -22.1   71.9  127.6   49.9      0  NotAssigned"
      ]
     },
     "execution_count": 101,
     "metadata": {},
     "output_type": "execute_result"
    }
   ],
   "source": [
    "gene_assignment.head(10)"
   ]
  },
  {
   "cell_type": "code",
   "execution_count": null,
   "metadata": {},
   "outputs": [],
   "source": []
  }
 ],
 "metadata": {
  "kernelspec": {
   "display_name": "myenv2",
   "language": "python",
   "name": "myenv2"
  },
  "language_info": {
   "codemirror_mode": {
    "name": "ipython",
    "version": 2
   },
   "file_extension": ".py",
   "mimetype": "text/x-python",
   "name": "python",
   "nbconvert_exporter": "python",
   "pygments_lexer": "ipython2",
   "version": "2.7.14"
  }
 },
 "nbformat": 4,
 "nbformat_minor": 2
}
