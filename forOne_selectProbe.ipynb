{
 "cells": [
  {
   "cell_type": "code",
   "execution_count": 194,
   "metadata": {},
   "outputs": [],
   "source": [
    "import pandas as pd\n",
    "import os\n",
    "import itertools\n",
    "import numpy as np"
   ]
  },
  {
   "cell_type": "code",
   "execution_count": 5,
   "metadata": {},
   "outputs": [],
   "source": [
    "# Set up the working directory\n",
    "# All paths after this are relative path to the root of chead\n",
    "\n",
    "wk_dir = '/Users/hxia/Desktop/BBL/' # this is where I have mounted chead to on my laptop. \n",
    "# Change the above to an empty string if working directly on chead \n",
    "\n",
    "# Set up the project directory\n",
    "project_path = os.path.join(wk_dir,'data/joy/BBL/projects/prsConnectivity')"
   ]
  },
  {
   "cell_type": "code",
   "execution_count": 8,
   "metadata": {},
   "outputs": [],
   "source": [
    "# Get the list of Genes and their associated GWAS p-val from Ripke et al. Nature 2014\n",
    "# Article and its supplement from www.nature.com/articles/nature13595\n",
    "\n",
    "gene_nature_supplement_file = os.path.join(project_path,'data','nature108genes.csv')\n",
    "gene_nature_supplement = pd.read_csv(gene_nature_supplement_file)"
   ]
  },
  {
   "cell_type": "code",
   "execution_count": 20,
   "metadata": {},
   "outputs": [],
   "source": [
    "# Get the list of genes sampled by Allen Brain Institute\n",
    "donor = 12876\n",
    "donor_path = os.path.join(project_path,'ABI','normalized_microarray_donor%s' % donor)\n",
    "\n",
    "probes_info = pd.read_csv(os.path.join(donor_path,'Probes.csv'))\n",
    "gene_expr = pd.read_csv(os.path.join(donor_path,'MicroarrayExpression.csv'),header=none)\n",
    "sample_info = pd.read_csv(os.path.join(donor_path,'SampleAnnot.csv'))"
   ]
  },
  {
   "cell_type": "code",
   "execution_count": 21,
   "metadata": {},
   "outputs": [
    {
     "name": "stderr",
     "output_type": "stream",
     "text": [
      "/anaconda2/envs/myenv2/lib/python2.7/site-packages/ipykernel_launcher.py:2: UserWarning: Boolean Series key will be reindexed to match DataFrame index.\n",
      "  \n"
     ]
    }
   ],
   "source": [
    "valid_probes = probes_info['entrez_id']>0\n",
    "gene_expr = gene_expr[valid_probes]\n",
    "probes_info = probes_info[valid_probes]"
   ]
  },
  {
   "cell_type": "code",
   "execution_count": 45,
   "metadata": {},
   "outputs": [],
   "source": [
    "probe_names = probes_info['gene_symbol'][probes_info['probe_id'] == gene_expr[0]]\n",
    "probe_ids = gene_expr[0]"
   ]
  },
  {
   "cell_type": "code",
   "execution_count": 94,
   "metadata": {},
   "outputs": [],
   "source": [
    "datCollapsed = gene_expr.groupby(probe_names).max()"
   ]
  },
  {
   "cell_type": "code",
   "execution_count": 146,
   "metadata": {},
   "outputs": [],
   "source": [
    "gene_col_names = ['probe_id']\n",
    "structure_ids = list(sample_info['structure_id'].astype(str))\n",
    "gene_col_names.extend(structure_ids)"
   ]
  },
  {
   "cell_type": "code",
   "execution_count": 150,
   "metadata": {},
   "outputs": [],
   "source": [
    "datCollapsed.columns = gene_col_names"
   ]
  },
  {
   "cell_type": "code",
   "execution_count": 187,
   "metadata": {},
   "outputs": [
    {
     "data": {
      "text/plain": [
       "False"
      ]
     },
     "execution_count": 187,
     "metadata": {},
     "output_type": "execute_result"
    }
   ],
   "source": [
    "gene_nature_supplement['Gene1'][1:].tolist() in list(probe_names.astype(str))"
   ]
  },
  {
   "cell_type": "code",
   "execution_count": 195,
   "metadata": {},
   "outputs": [
    {
     "data": {
      "text/plain": [
       "(array([], dtype=int64),)"
      ]
     },
     "execution_count": 195,
     "metadata": {},
     "output_type": "execute_result"
    }
   ],
   "source": [
    "np.where(gene_nature_supplement['Gene1'][1:].tolist() in list(probe_names.astype(str)))"
   ]
  },
  {
   "cell_type": "code",
   "execution_count": 169,
   "metadata": {},
   "outputs": [
    {
     "data": {
      "text/plain": [
       "0                  C8G\n",
       "1                   C9\n",
       "2                   C9\n",
       "3               MRPL49\n",
       "4               MRPL49\n",
       "5               MRPL49\n",
       "6               ZNHIT2\n",
       "7               ZNHIT2\n",
       "8               MPPED2\n",
       "9              C11orf9\n",
       "10             C11orf9\n",
       "11            C11orf10\n",
       "12            C11orf10\n",
       "13               DAGLA\n",
       "14               DAGLA\n",
       "15             C16orf3\n",
       "16             C16orf3\n",
       "17               FMNL1\n",
       "18               FMNL1\n",
       "19             PTTG1IP\n",
       "20             PTTG1IP\n",
       "21             C21orf2\n",
       "22             C21orf2\n",
       "23             TMEM50B\n",
       "24             TMEM50B\n",
       "25                 CA1\n",
       "26                 CA1\n",
       "27                 CA1\n",
       "28                 CA2\n",
       "29                 CA2\n",
       "             ...      \n",
       "57796           FAM21C\n",
       "57797            STIM2\n",
       "57804           CNKSR2\n",
       "57810          CXorf38\n",
       "57813             TFF3\n",
       "57815             NOL9\n",
       "57816            TMED5\n",
       "57817           ZNHIT6\n",
       "57820            CAGE1\n",
       "57821          ZC3H12D\n",
       "57822           ZNF678\n",
       "57823            MBNL3\n",
       "57824            MBNL3\n",
       "57825            MBNL3\n",
       "57826            MBNL3\n",
       "57827           IQSEC3\n",
       "57840        LRRC37A4P\n",
       "57842          FAM122C\n",
       "57843          FAM82A1\n",
       "57844          CXorf56\n",
       "57845       AC068580.3\n",
       "57846    RP11-357H14.1\n",
       "57847         C11orf87\n",
       "57851          TSPAN18\n",
       "57852           GABRG3\n",
       "57854        LOC442293\n",
       "57855          TRPC5OS\n",
       "57856             ZEB2\n",
       "57857             ZEB2\n",
       "57858            KLHL5\n",
       "Name: gene_symbol, Length: 48171, dtype: object"
      ]
     },
     "execution_count": 169,
     "metadata": {},
     "output_type": "execute_result"
    }
   ],
   "source": [
    "probe_names"
   ]
  },
  {
   "cell_type": "code",
   "execution_count": null,
   "metadata": {},
   "outputs": [],
   "source": []
  }
 ],
 "metadata": {
  "kernelspec": {
   "display_name": "myenv2",
   "language": "python",
   "name": "myenv2"
  },
  "language_info": {
   "codemirror_mode": {
    "name": "ipython",
    "version": 2
   },
   "file_extension": ".py",
   "mimetype": "text/x-python",
   "name": "python",
   "nbconvert_exporter": "python",
   "pygments_lexer": "ipython2",
   "version": "2.7.14"
  }
 },
 "nbformat": 4,
 "nbformat_minor": 2
}
